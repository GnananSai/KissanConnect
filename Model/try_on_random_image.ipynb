{
 "cells": [
  {
   "cell_type": "code",
   "execution_count": null,
   "id": "d2afdabb",
   "metadata": {},
   "outputs": [],
   "source": [
    "import tensorflow as tf\n",
    "from tensorflow.keras import models, layers\n",
    "import matplotlib.pyplot as plt\n",
    "import numpy as np\n",
    "import cv2\n",
    "import matplotlib\n",
    "from matplotlib import pyplot as plt\n",
    "import os"
   ]
  },
  {
   "cell_type": "code",
   "execution_count": null,
   "id": "d09dc7ed",
   "metadata": {},
   "outputs": [],
   "source": [
    "def predict_rice_leaf_disease(image_path, model_path):\n",
    "    # Load the saved model\n",
    "    model = tf.keras.models.load_model(model_path)\n",
    "\n",
    "    # Define the class names\n",
    "    class_names = [\n",
    "        'Bacterial Leaf Blight',\n",
    "        'Brown Spot',\n",
    "        'Healthy Rice Leaf',\n",
    "        'Leaf Blast',\n",
    "        'Leaf scald',\n",
    "        'Narrow Brown Leaf Spot',\n",
    "        'Neck_Blast',\n",
    "        'Rice Hispa',\n",
    "        'Sheath Blight'\n",
    "    ]\n",
    "\n",
    "    # Load and preprocess the image\n",
    "    image = Image.open(image_path).convert('RGB')\n",
    "    image = image.resize((256, 256))  # Resize to match model input\n",
    "    img_array = tf.keras.preprocessing.image.img_to_array(image)\n",
    "    img_array = tf.expand_dims(img_array, axis=0)  # Add batch dimension\n",
    "\n",
    "    # Make prediction\n",
    "    predictions = model.predict(img_array)\n",
    "    predicted_class = class_names[np.argmax(predictions)]\n",
    "    confidence = np.max(predictions)\n",
    "\n",
    "    # Print or return results\n",
    "    print(f\"Predicted Class: {predicted_class}\")\n",
    "    print(f\"Confidence: {confidence:.4f}\")\n",
    "    return predicted_class, confidence"
   ]
  },
  {
   "cell_type": "code",
   "execution_count": null,
   "id": "6585adea",
   "metadata": {},
   "outputs": [],
   "source": [
    "model_path = 'RiceDiseaseModel.h5'\n",
    "image_path = 'test/Neck_Blast/IMG20201109210545_00.jpg'\n",
    "predict_rice_leaf_disease(image_path,model_path)"
   ]
  }
 ],
 "metadata": {
  "kernelspec": {
   "display_name": "Python 3",
   "language": "python",
   "name": "python3"
  },
  "language_info": {
   "codemirror_mode": {
    "name": "ipython",
    "version": 3
   },
   "file_extension": ".py",
   "mimetype": "text/x-python",
   "name": "python",
   "nbconvert_exporter": "python",
   "pygments_lexer": "ipython3",
   "version": "3.11.4"
  }
 },
 "nbformat": 4,
 "nbformat_minor": 5
}
